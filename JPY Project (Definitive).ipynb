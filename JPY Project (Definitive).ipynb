{
 "cells": [
  {
   "cell_type": "markdown",
   "metadata": {},
   "source": [
    "# My Jupyter Notebook on IBM Watson Studio"
   ]
  },
  {
   "cell_type": "markdown",
   "metadata": {},
   "source": [
    "name (in Bold characters) is **Diego Marchandon**. \n",
    "\n",
    "Data Scientist Jr"
   ]
  },
  {
   "cell_type": "markdown",
   "metadata": {},
   "source": [
    "Sentences (in italic formatting):\n",
    "*I have knowledge in statistics from the previous career I studied, and I also have some knowledge of RStudio, Github, Git, Javascript, and I would like to study something that can unite all that.*"
   ]
  },
  {
   "cell_type": "markdown",
   "metadata": {},
   "source": [
    "<h3>In the cell below, exponentiation operations will be performed with floats and integers numbers</h3>"
   ]
  },
  {
   "cell_type": "code",
   "execution_count": 17,
   "metadata": {},
   "outputs": [
    {
     "name": "stdout",
     "output_type": "stream",
     "text": [
      "8\n",
      "result of two integers\n",
      "8.0\n",
      "result of integer and float\n",
      "8.0\n",
      "result of float and integer\n",
      "8.0\n",
      "result of two floats\n"
     ]
    }
   ],
   "source": [
    "print(2**3)\n",
    "print(\"result of two integers\")\n",
    "print(2**3.)\n",
    "print(\"result of integer and float\")\n",
    "print(2.**3)\n",
    "print(\"result of float and integer\")\n",
    "print(2.**3.)\n",
    "print(\"result of two floats\")"
   ]
  },
  {
   "cell_type": "markdown",
   "metadata": {},
   "source": [
    "<hr>horizontal rule (made with hr and /hr labels) </hr>"
   ]
  },
  {
   "cell_type": "markdown",
   "metadata": {},
   "source": [
    "numbered list:\n",
    "1. First List\n",
    "    1. First Sublist\n",
    "2. Second List\n",
    "    1. Second Sublist\n",
    "    2. Third Sublist"
   ]
  },
  {
   "cell_type": "markdown",
   "metadata": {},
   "source": [
    "strikethrough (made with s and /s labels)\n",
    "\n",
    "<s>strikethrough</s>"
   ]
  },
  {
   "cell_type": "markdown",
   "metadata": {},
   "source": [
    "HTML Table:\n",
    "|Header1 | Header2 |\n",
    "|--------|---------|\n",
    "|Element1| Element2|\n",
    "|Element3| Element4|"
   ]
  },
  {
   "cell_type": "code",
   "execution_count": null,
   "metadata": {},
   "outputs": [],
   "source": []
  }
 ],
 "metadata": {
  "kernelspec": {
   "display_name": "Python",
   "language": "python",
   "name": "conda-env-python-py"
  },
  "language_info": {
   "codemirror_mode": {
    "name": "ipython",
    "version": 3
   },
   "file_extension": ".py",
   "mimetype": "text/x-python",
   "name": "python",
   "nbconvert_exporter": "python",
   "pygments_lexer": "ipython3",
   "version": "3.7.12"
  }
 },
 "nbformat": 4,
 "nbformat_minor": 4
}
